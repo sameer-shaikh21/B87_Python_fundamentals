{
 "cells": [
  {
   "cell_type": "code",
   "execution_count": 1,
   "id": "32df4c69-0b6e-4d79-846c-4c083622d7a7",
   "metadata": {},
   "outputs": [
    {
     "name": "stdout",
     "output_type": "stream",
     "text": [
      "Hello and welcome to my first python code\n"
     ]
    }
   ],
   "source": [
    "print (\"Hello and welcome to my first python code\")"
   ]
  },
  {
   "cell_type": "code",
   "execution_count": 2,
   "id": "02b22d75-c30f-4863-a819-853d86600eb2",
   "metadata": {},
   "outputs": [
    {
     "name": "stdout",
     "output_type": "stream",
     "text": [
      "Hello all lets start working on pyton language\n"
     ]
    }
   ],
   "source": [
    "print (\"Hello all lets start working on pyton language\")\n"
   ]
  },
  {
   "cell_type": "code",
   "execution_count": null,
   "id": "507b35c2-a621-40be-9365-9ae59b905398",
   "metadata": {},
   "outputs": [],
   "source": []
  }
 ],
 "metadata": {
  "kernelspec": {
   "display_name": "Python 3 (ipykernel)",
   "language": "python",
   "name": "python3"
  },
  "language_info": {
   "codemirror_mode": {
    "name": "ipython",
    "version": 3
   },
   "file_extension": ".py",
   "mimetype": "text/x-python",
   "name": "python",
   "nbconvert_exporter": "python",
   "pygments_lexer": "ipython3",
   "version": "3.13.5"
  }
 },
 "nbformat": 4,
 "nbformat_minor": 5
}
