{
 "cells": [
  {
   "cell_type": "code",
   "execution_count": 7,
   "id": "0188eccb-1956-4272-8870-0dac05d4ea0c",
   "metadata": {},
   "outputs": [
    {
     "name": "stdout",
     "output_type": "stream",
     "text": [
      "sameer\n"
     ]
    }
   ],
   "source": [
    "name = \"sameer\"\n",
    "print (name)"
   ]
  },
  {
   "cell_type": "code",
   "execution_count": 10,
   "id": "5f2b63f1-1088-42a3-a0f9-c7336ad58adf",
   "metadata": {},
   "outputs": [
    {
     "name": "stdout",
     "output_type": "stream",
     "text": [
      "sameer shaikh\n"
     ]
    },
    {
     "data": {
      "text/plain": [
       "str"
      ]
     },
     "execution_count": 10,
     "metadata": {},
     "output_type": "execute_result"
    }
   ],
   "source": [
    "name1 = \"sameer shaikh\"\n",
    "print (name1)\n",
    "type (name1)"
   ]
  },
  {
   "cell_type": "code",
   "execution_count": null,
   "id": "2ce89c60-255f-4fc9-9a38-5ab45ec1a5b5",
   "metadata": {},
   "outputs": [],
   "source": [
    "fullname= \"sameer salauddin shaikh\"\n",
    "print ()"
   ]
  }
 ],
 "metadata": {
  "kernelspec": {
   "display_name": "Python 3 (ipykernel)",
   "language": "python",
   "name": "python3"
  },
  "language_info": {
   "codemirror_mode": {
    "name": "ipython",
    "version": 3
   },
   "file_extension": ".py",
   "mimetype": "text/x-python",
   "name": "python",
   "nbconvert_exporter": "python",
   "pygments_lexer": "ipython3",
   "version": "3.13.5"
  }
 },
 "nbformat": 4,
 "nbformat_minor": 5
}
