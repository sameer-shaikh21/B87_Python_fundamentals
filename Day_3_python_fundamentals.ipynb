{
 "cells": [
  {
   "cell_type": "code",
   "execution_count": 7,
   "id": "0b332aed-299d-41b3-9c18-1a83b4244282",
   "metadata": {},
   "outputs": [
    {
     "name": "stdout",
     "output_type": "stream",
     "text": [
      "Dinesh Kumar\n"
     ]
    }
   ],
   "source": [
    "firstname= \"dinesh\"\n",
    "lastname= \"kumar\"\n",
    "fullname = f\"{firstname} {lastname}\"\n",
    "print (fullname.title())"
   ]
  },
  {
   "cell_type": "code",
   "execution_count": 11,
   "id": "4221002e-ecd6-4f74-8135-26b3b630cbf9",
   "metadata": {},
   "outputs": [
    {
     "name": "stdout",
     "output_type": "stream",
     "text": [
      "fav language:\n",
      "\tPython\n",
      "\tC\n",
      "\tJava\n",
      "\tnet\n"
     ]
    }
   ],
   "source": [
    "print (\"fav language:\\n\\tPython\\n\\tC\\n\\tJava\\n\\tnet\");"
   ]
  },
  {
   "cell_type": "code",
   "execution_count": 12,
   "id": "fc11c0aa-e183-46e9-8bb3-65239eca28a0",
   "metadata": {},
   "outputs": [
    {
     "name": "stdout",
     "output_type": "stream",
     "text": [
      "fav language:\n",
      "Python\n",
      "C\n",
      "Java\n",
      "net\n"
     ]
    }
   ],
   "source": [
    "print (\"fav language:\\nPython\\nC\\nJava\\nnet\");"
   ]
  },
  {
   "cell_type": "code",
   "execution_count": 13,
   "id": "517658b9-38a7-46fd-9304-94423f509800",
   "metadata": {},
   "outputs": [
    {
     "name": "stdout",
     "output_type": "stream",
     "text": [
      " python \n"
     ]
    }
   ],
   "source": [
    "print(\" python \")\n"
   ]
  },
  {
   "cell_type": "code",
   "execution_count": 15,
   "id": "7862bcf9-3186-4447-885b-cf49206eb176",
   "metadata": {},
   "outputs": [
    {
     "name": "stdout",
     "output_type": "stream",
     "text": [
      " python\n"
     ]
    }
   ],
   "source": [
    "name= \" python \"\n",
    "print (name.rstrip())"
   ]
  },
  {
   "cell_type": "code",
   "execution_count": null,
   "id": "b74c443f-836d-4056-974e-9340d4a307fe",
   "metadata": {},
   "outputs": [],
   "source": [
    "name=\" Sameer \"\n",
    "print (name.strip"
   ]
  }
 ],
 "metadata": {
  "kernelspec": {
   "display_name": "Python 3 (ipykernel)",
   "language": "python",
   "name": "python3"
  },
  "language_info": {
   "codemirror_mode": {
    "name": "ipython",
    "version": 3
   },
   "file_extension": ".py",
   "mimetype": "text/x-python",
   "name": "python",
   "nbconvert_exporter": "python",
   "pygments_lexer": "ipython3",
   "version": "3.13.5"
  }
 },
 "nbformat": 4,
 "nbformat_minor": 5
}
